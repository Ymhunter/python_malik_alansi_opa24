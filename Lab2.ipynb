{
 "cells": [
  {
   "cell_type": "code",
   "execution_count": 1,
   "metadata": {},
   "outputs": [],
   "source": [
    "import pandas as pd"
   ]
  },
  {
   "cell_type": "code",
   "execution_count": 2,
   "metadata": {},
   "outputs": [
    {
     "data": {
      "text/html": [
       "<div>\n",
       "<style scoped>\n",
       "    .dataframe tbody tr th:only-of-type {\n",
       "        vertical-align: middle;\n",
       "    }\n",
       "\n",
       "    .dataframe tbody tr th {\n",
       "        vertical-align: top;\n",
       "    }\n",
       "\n",
       "    .dataframe thead th {\n",
       "        text-align: right;\n",
       "    }\n",
       "</style>\n",
       "<table border=\"1\" class=\"dataframe\">\n",
       "  <thead>\n",
       "    <tr style=\"text-align: right;\">\n",
       "      <th></th>\n",
       "      <th>Plats</th>\n",
       "      <th>Huvudman</th>\n",
       "      <th>Totalt(A-F)</th>\n",
       "      <th>Flickor(A-F)</th>\n",
       "      <th>Pojkar(A-F)</th>\n",
       "      <th>Totalt(A-E)</th>\n",
       "      <th>Flickor(A-E)</th>\n",
       "      <th>Pojkar(A-E)</th>\n",
       "      <th>Totalt(poäng)</th>\n",
       "      <th>Flickor(poäng)</th>\n",
       "      <th>Pojkar(poäng)</th>\n",
       "    </tr>\n",
       "  </thead>\n",
       "  <tbody>\n",
       "    <tr>\n",
       "      <th>0</th>\n",
       "      <td>Riket</td>\n",
       "      <td>Samtliga</td>\n",
       "      <td>106941</td>\n",
       "      <td>51864</td>\n",
       "      <td>55077</td>\n",
       "      <td>97.0</td>\n",
       "      <td>97.1</td>\n",
       "      <td>97.0</td>\n",
       "      <td>15.7</td>\n",
       "      <td>15.8</td>\n",
       "      <td>15.7</td>\n",
       "    </tr>\n",
       "    <tr>\n",
       "      <th>1</th>\n",
       "      <td>Riket</td>\n",
       "      <td>Kommunal</td>\n",
       "      <td>84310</td>\n",
       "      <td>40675</td>\n",
       "      <td>43635</td>\n",
       "      <td>96.6</td>\n",
       "      <td>96.6</td>\n",
       "      <td>96.6</td>\n",
       "      <td>15.4</td>\n",
       "      <td>15.5</td>\n",
       "      <td>15.4</td>\n",
       "    </tr>\n",
       "    <tr>\n",
       "      <th>2</th>\n",
       "      <td>Riket</td>\n",
       "      <td>Enskild</td>\n",
       "      <td>22582</td>\n",
       "      <td>11165</td>\n",
       "      <td>11417</td>\n",
       "      <td>98.7</td>\n",
       "      <td>98.8</td>\n",
       "      <td>98.7</td>\n",
       "      <td>16.9</td>\n",
       "      <td>17.0</td>\n",
       "      <td>16.8</td>\n",
       "    </tr>\n",
       "    <tr>\n",
       "      <th>3</th>\n",
       "      <td>Riket</td>\n",
       "      <td>Skolverket</td>\n",
       "      <td>49</td>\n",
       "      <td>24</td>\n",
       "      <td>25</td>\n",
       "      <td>100.0</td>\n",
       "      <td>100.0</td>\n",
       "      <td>100.0</td>\n",
       "      <td>18.5</td>\n",
       "      <td>18.9</td>\n",
       "      <td>18.2</td>\n",
       "    </tr>\n",
       "  </tbody>\n",
       "</table>\n",
       "</div>"
      ],
      "text/plain": [
       "   Plats    Huvudman  Totalt(A-F)  Flickor(A-F)  Pojkar(A-F)   Totalt(A-E)   \\\n",
       "0  Riket    Samtliga       106941         51864         55077          97.0   \n",
       "1  Riket    Kommunal        84310         40675         43635          96.6   \n",
       "2  Riket     Enskild        22582         11165         11417          98.7   \n",
       "3  Riket  Skolverket           49            24            25         100.0   \n",
       "\n",
       "   Flickor(A-E)   Pojkar(A-E)  Totalt(poäng)  Flickor(poäng)  Pojkar(poäng)  \n",
       "0           97.1         97.0           15.7            15.8           15.7  \n",
       "1           96.6         96.6           15.4            15.5           15.4  \n",
       "2           98.8         98.7           16.9            17.0           16.8  \n",
       "3          100.0        100.0           18.5            18.9           18.2  "
      ]
     },
     "execution_count": 2,
     "metadata": {},
     "output_type": "execute_result"
    }
   ],
   "source": [
    "df_Engelska = pd.read_excel(\"riket2023_åk9_np.xlsx\",sheet_name='Engelska' ,skiprows=8)\n",
    "df_Engelska = df_Engelska.rename(columns={'Riket': 'Plats', 'Typ av huvudman': 'Huvudman', 'Totalt': 'Totalt(A-F)', 'Flickor': 'Flickor(A-F)', 'Pojkar': 'Pojkar(A-F) ', 'Totalt ': 'Totalt(A-E) ', 'Flickor ': 'Flickor(A-E) ', 'Pojkar ': 'Pojkar(A-E)', 'Totalt  ': 'Totalt(poäng)', 'Flickor  ': 'Flickor(poäng)', 'Pojkar  ': 'Pojkar(poäng)'})\n",
    "df_Engelska"
   ]
  },
  {
   "cell_type": "code",
   "execution_count": 33,
   "metadata": {},
   "outputs": [
    {
     "data": {
      "text/html": [
       "<div>\n",
       "<style scoped>\n",
       "    .dataframe tbody tr th:only-of-type {\n",
       "        vertical-align: middle;\n",
       "    }\n",
       "\n",
       "    .dataframe tbody tr th {\n",
       "        vertical-align: top;\n",
       "    }\n",
       "\n",
       "    .dataframe thead th {\n",
       "        text-align: right;\n",
       "    }\n",
       "</style>\n",
       "<table border=\"1\" class=\"dataframe\">\n",
       "  <thead>\n",
       "    <tr style=\"text-align: right;\">\n",
       "      <th></th>\n",
       "      <th>Plats</th>\n",
       "      <th>Huvudman</th>\n",
       "      <th>Totalt(A-F)</th>\n",
       "      <th>Flickor(A-F)</th>\n",
       "      <th>Pojkar(A-F)</th>\n",
       "      <th>Totalt(A-E)</th>\n",
       "      <th>Flickor(A-E)</th>\n",
       "      <th>Pojkar(A-E)</th>\n",
       "      <th>Totalt(poäng)</th>\n",
       "      <th>Flickor(poäng)</th>\n",
       "      <th>Pojkar(poäng)</th>\n",
       "    </tr>\n",
       "  </thead>\n",
       "  <tbody>\n",
       "    <tr>\n",
       "      <th>0</th>\n",
       "      <td>Riket</td>\n",
       "      <td>Samtliga</td>\n",
       "      <td>106766</td>\n",
       "      <td>51548</td>\n",
       "      <td>55218</td>\n",
       "      <td>89.1</td>\n",
       "      <td>88.7</td>\n",
       "      <td>89.5</td>\n",
       "      <td>11.9</td>\n",
       "      <td>11.8</td>\n",
       "      <td>12.0</td>\n",
       "    </tr>\n",
       "    <tr>\n",
       "      <th>1</th>\n",
       "      <td>Riket</td>\n",
       "      <td>Kommunal</td>\n",
       "      <td>84163</td>\n",
       "      <td>40386</td>\n",
       "      <td>43777</td>\n",
       "      <td>88.1</td>\n",
       "      <td>87.7</td>\n",
       "      <td>88.5</td>\n",
       "      <td>11.6</td>\n",
       "      <td>11.5</td>\n",
       "      <td>11.7</td>\n",
       "    </tr>\n",
       "    <tr>\n",
       "      <th>2</th>\n",
       "      <td>Riket</td>\n",
       "      <td>Enskild</td>\n",
       "      <td>22553</td>\n",
       "      <td>11137</td>\n",
       "      <td>11416</td>\n",
       "      <td>92.9</td>\n",
       "      <td>92.2</td>\n",
       "      <td>93.5</td>\n",
       "      <td>13.0</td>\n",
       "      <td>12.8</td>\n",
       "      <td>13.1</td>\n",
       "    </tr>\n",
       "    <tr>\n",
       "      <th>3</th>\n",
       "      <td>Riket</td>\n",
       "      <td>Skolverket</td>\n",
       "      <td>50</td>\n",
       "      <td>25</td>\n",
       "      <td>25</td>\n",
       "      <td>~100</td>\n",
       "      <td>~100</td>\n",
       "      <td>~100</td>\n",
       "      <td>14.1</td>\n",
       "      <td>13.5</td>\n",
       "      <td>14.7</td>\n",
       "    </tr>\n",
       "  </tbody>\n",
       "</table>\n",
       "</div>"
      ],
      "text/plain": [
       "   Plats    Huvudman  Totalt(A-F)  Flickor(A-F)  Pojkar(A-F)  Totalt(A-E)   \\\n",
       "0  Riket    Samtliga       106766         51548         55218         89.1   \n",
       "1  Riket    Kommunal        84163         40386         43777         88.1   \n",
       "2  Riket     Enskild        22553         11137         11416         92.9   \n",
       "3  Riket  Skolverket           50            25            25         ~100   \n",
       "\n",
       "  Flickor(A-E)  Pojkar(A-E)  Totalt(poäng)  Flickor(poäng)  Pojkar(poäng)  \n",
       "0          88.7        89.5           11.9            11.8           12.0  \n",
       "1          87.7        88.5           11.6            11.5           11.7  \n",
       "2          92.2        93.5           13.0            12.8           13.1  \n",
       "3          ~100        ~100           14.1            13.5           14.7  "
      ]
     },
     "execution_count": 33,
     "metadata": {},
     "output_type": "execute_result"
    }
   ],
   "source": [
    "df_Matematik = pd.read_excel(\"riket2023_åk9_np.xlsx\",sheet_name='Matematik' ,skiprows=8)\n",
    "df_Matematik = df_Matematik.rename(columns={'Riket': 'Plats', 'Typ av huvudman': 'Huvudman', 'Totalt': 'Totalt(A-F)', 'Flickor': 'Flickor(A-F)', 'Pojkar': 'Pojkar(A-F) ', 'Totalt ': 'Totalt(A-E) ', 'Flickor ': 'Flickor(A-E) ', 'Pojkar ': 'Pojkar(A-E)', 'Totalt  ': 'Totalt(poäng)', 'Flickor  ': 'Flickor(poäng)', 'Pojkar  ': 'Pojkar(poäng)'})\n",
    "df_Matematik"
   ]
  },
  {
   "cell_type": "code",
   "execution_count": 34,
   "metadata": {},
   "outputs": [
    {
     "data": {
      "text/html": [
       "<div>\n",
       "<style scoped>\n",
       "    .dataframe tbody tr th:only-of-type {\n",
       "        vertical-align: middle;\n",
       "    }\n",
       "\n",
       "    .dataframe tbody tr th {\n",
       "        vertical-align: top;\n",
       "    }\n",
       "\n",
       "    .dataframe thead th {\n",
       "        text-align: right;\n",
       "    }\n",
       "</style>\n",
       "<table border=\"1\" class=\"dataframe\">\n",
       "  <thead>\n",
       "    <tr style=\"text-align: right;\">\n",
       "      <th></th>\n",
       "      <th>Plats</th>\n",
       "      <th>Huvudman</th>\n",
       "      <th>Totalt(A-F)</th>\n",
       "      <th>Flickor(A-F)</th>\n",
       "      <th>Pojkar(A-F)</th>\n",
       "      <th>Totalt(A-E)</th>\n",
       "      <th>Flickor(A-E)</th>\n",
       "      <th>Pojkar(A-E)</th>\n",
       "      <th>Totalt(poäng)</th>\n",
       "      <th>Flickor(poäng)</th>\n",
       "      <th>Pojkar(poäng)</th>\n",
       "    </tr>\n",
       "  </thead>\n",
       "  <tbody>\n",
       "    <tr>\n",
       "      <th>0</th>\n",
       "      <td>Riket</td>\n",
       "      <td>Samtliga</td>\n",
       "      <td>93225</td>\n",
       "      <td>45800</td>\n",
       "      <td>47425</td>\n",
       "      <td>96.1</td>\n",
       "      <td>97.9</td>\n",
       "      <td>94.4</td>\n",
       "      <td>13.6</td>\n",
       "      <td>14.5</td>\n",
       "      <td>12.7</td>\n",
       "    </tr>\n",
       "    <tr>\n",
       "      <th>1</th>\n",
       "      <td>Riket</td>\n",
       "      <td>Kommunal</td>\n",
       "      <td>72771</td>\n",
       "      <td>35484</td>\n",
       "      <td>37287</td>\n",
       "      <td>95.7</td>\n",
       "      <td>97.6</td>\n",
       "      <td>93.8</td>\n",
       "      <td>13.3</td>\n",
       "      <td>14.3</td>\n",
       "      <td>12.4</td>\n",
       "    </tr>\n",
       "    <tr>\n",
       "      <th>2</th>\n",
       "      <td>Riket</td>\n",
       "      <td>Enskild</td>\n",
       "      <td>20414</td>\n",
       "      <td>10297</td>\n",
       "      <td>10117</td>\n",
       "      <td>97.6</td>\n",
       "      <td>98.7</td>\n",
       "      <td>96.6</td>\n",
       "      <td>14.4</td>\n",
       "      <td>15.2</td>\n",
       "      <td>13.5</td>\n",
       "    </tr>\n",
       "    <tr>\n",
       "      <th>3</th>\n",
       "      <td>Riket</td>\n",
       "      <td>Skolverket</td>\n",
       "      <td>40</td>\n",
       "      <td>19</td>\n",
       "      <td>21</td>\n",
       "      <td>100.0</td>\n",
       "      <td>100.0</td>\n",
       "      <td>100.0</td>\n",
       "      <td>15.0</td>\n",
       "      <td>15.9</td>\n",
       "      <td>14.2</td>\n",
       "    </tr>\n",
       "  </tbody>\n",
       "</table>\n",
       "</div>"
      ],
      "text/plain": [
       "   Plats    Huvudman  Totalt(A-F)  Flickor(A-F)  Pojkar(A-F)   Totalt(A-E)   \\\n",
       "0  Riket    Samtliga        93225         45800         47425          96.1   \n",
       "1  Riket    Kommunal        72771         35484         37287          95.7   \n",
       "2  Riket     Enskild        20414         10297         10117          97.6   \n",
       "3  Riket  Skolverket           40            19            21         100.0   \n",
       "\n",
       "   Flickor(A-E)   Pojkar(A-E)  Totalt(poäng)  Flickor(poäng)  Pojkar(poäng)  \n",
       "0           97.9         94.4           13.6            14.5           12.7  \n",
       "1           97.6         93.8           13.3            14.3           12.4  \n",
       "2           98.7         96.6           14.4            15.2           13.5  \n",
       "3          100.0        100.0           15.0            15.9           14.2  "
      ]
     },
     "execution_count": 34,
     "metadata": {},
     "output_type": "execute_result"
    }
   ],
   "source": [
    "df_Svenska = pd.read_excel(\"riket2023_åk9_np.xlsx\",sheet_name='Svenska' ,skiprows=8)\n",
    "df_Svenska = df_Svenska.rename(columns={'Riket': 'Plats', 'Typ av huvudman': 'Huvudman', 'Totalt': 'Totalt(A-F)', 'Flickor': 'Flickor(A-F)', 'Pojkar': 'Pojkar(A-F) ', 'Totalt ': 'Totalt(A-E) ', 'Flickor ': 'Flickor(A-E) ', 'Pojkar ': 'Pojkar(A-E)', 'Totalt  ': 'Totalt(poäng)', 'Flickor  ': 'Flickor(poäng)', 'Pojkar  ': 'Pojkar(poäng)'})\n",
    "df_Svenska"
   ]
  },
  {
   "cell_type": "code",
   "execution_count": 35,
   "metadata": {},
   "outputs": [
    {
     "data": {
      "text/html": [
       "<div>\n",
       "<style scoped>\n",
       "    .dataframe tbody tr th:only-of-type {\n",
       "        vertical-align: middle;\n",
       "    }\n",
       "\n",
       "    .dataframe tbody tr th {\n",
       "        vertical-align: top;\n",
       "    }\n",
       "\n",
       "    .dataframe thead th {\n",
       "        text-align: right;\n",
       "    }\n",
       "</style>\n",
       "<table border=\"1\" class=\"dataframe\">\n",
       "  <thead>\n",
       "    <tr style=\"text-align: right;\">\n",
       "      <th></th>\n",
       "      <th>Plats</th>\n",
       "      <th>Huvudman</th>\n",
       "      <th>Totalt(A-F)</th>\n",
       "      <th>Flickor(A-F)</th>\n",
       "      <th>Pojkar(A-F)</th>\n",
       "      <th>Totalt(A-E)</th>\n",
       "      <th>Flickor(A-E)</th>\n",
       "      <th>Pojkar(A-E)</th>\n",
       "      <th>Totalt(poäng)</th>\n",
       "      <th>Flickor(poäng)</th>\n",
       "      <th>Pojkar(poäng)</th>\n",
       "    </tr>\n",
       "  </thead>\n",
       "  <tbody>\n",
       "    <tr>\n",
       "      <th>0</th>\n",
       "      <td>Riket</td>\n",
       "      <td>Samtliga</td>\n",
       "      <td>14092</td>\n",
       "      <td>6447</td>\n",
       "      <td>7645</td>\n",
       "      <td>77.7</td>\n",
       "      <td>81.6</td>\n",
       "      <td>74.3</td>\n",
       "      <td>9.4</td>\n",
       "      <td>10.2</td>\n",
       "      <td>8.7</td>\n",
       "    </tr>\n",
       "    <tr>\n",
       "      <th>1</th>\n",
       "      <td>Riket</td>\n",
       "      <td>Kommunal</td>\n",
       "      <td>11963</td>\n",
       "      <td>5495</td>\n",
       "      <td>6468</td>\n",
       "      <td>75.9</td>\n",
       "      <td>80</td>\n",
       "      <td>72.4</td>\n",
       "      <td>9</td>\n",
       "      <td>9.9</td>\n",
       "      <td>8.3</td>\n",
       "    </tr>\n",
       "    <tr>\n",
       "      <th>2</th>\n",
       "      <td>Riket</td>\n",
       "      <td>Enskild</td>\n",
       "      <td>2122</td>\n",
       "      <td>949</td>\n",
       "      <td>1173</td>\n",
       "      <td>87.7</td>\n",
       "      <td>90.9</td>\n",
       "      <td>85.2</td>\n",
       "      <td>11.1</td>\n",
       "      <td>12</td>\n",
       "      <td>10.4</td>\n",
       "    </tr>\n",
       "    <tr>\n",
       "      <th>3</th>\n",
       "      <td>Riket</td>\n",
       "      <td>Skolverket</td>\n",
       "      <td>..</td>\n",
       "      <td>..</td>\n",
       "      <td>..</td>\n",
       "      <td>..</td>\n",
       "      <td>..</td>\n",
       "      <td>..</td>\n",
       "      <td>..</td>\n",
       "      <td>..</td>\n",
       "      <td>..</td>\n",
       "    </tr>\n",
       "  </tbody>\n",
       "</table>\n",
       "</div>"
      ],
      "text/plain": [
       "   Plats    Huvudman Totalt(A-F) Flickor(A-F) Pojkar(A-F)  Totalt(A-E)   \\\n",
       "0  Riket    Samtliga       14092         6447         7645         77.7   \n",
       "1  Riket    Kommunal       11963         5495         6468         75.9   \n",
       "2  Riket     Enskild        2122          949         1173         87.7   \n",
       "3  Riket  Skolverket          ..           ..           ..           ..   \n",
       "\n",
       "  Flickor(A-E)  Pojkar(A-E) Totalt(poäng) Flickor(poäng) Pojkar(poäng)  \n",
       "0          81.6        74.3           9.4           10.2           8.7  \n",
       "1            80        72.4             9            9.9           8.3  \n",
       "2          90.9        85.2          11.1             12          10.4  \n",
       "3            ..          ..            ..             ..            ..  "
      ]
     },
     "execution_count": 35,
     "metadata": {},
     "output_type": "execute_result"
    }
   ],
   "source": [
    "df_Svenska_som_andraspråk = pd.read_excel(\"riket2023_åk9_np.xlsx\",sheet_name='Svenska som andraspråk' ,skiprows=8)\n",
    "df_Svenska_som_andraspråk = df_Svenska_som_andraspråk.rename(columns={'Riket': 'Plats', 'Typ av huvudman': 'Huvudman', 'Totalt': 'Totalt(A-F)', 'Flickor': 'Flickor(A-F)', 'Pojkar': 'Pojkar(A-F) ', 'Totalt ': 'Totalt(A-E) ', 'Flickor ': 'Flickor(A-E) ', 'Pojkar ': 'Pojkar(A-E)', 'Totalt  ': 'Totalt(poäng)', 'Flickor  ': 'Flickor(poäng)', 'Pojkar  ': 'Pojkar(poäng)'})\n",
    "df_Svenska_som_andraspråk"
   ]
  },
  {
   "cell_type": "code",
   "execution_count": 36,
   "metadata": {},
   "outputs": [],
   "source": [
    "import plotly.express as px"
   ]
  },
  {
   "cell_type": "code",
   "execution_count": null,
   "metadata": {},
   "outputs": [
    {
     "data": {
      "application/vnd.plotly.v1+json": {
       "config": {
        "plotlyServerURL": "https://plot.ly"
       },
       "data": [
        {
         "name": "Svenska",
         "type": "bar",
         "x": [
          "Samtliga",
          "Kommunal",
          "Enskild",
          "Skolverket"
         ],
         "xaxis": "x",
         "y": {
          "bdata": "MzMzMzMzK0CamZmZmZkqQM3MzMzMzCxAAAAAAAAALkA=",
          "dtype": "f8"
         },
         "yaxis": "y"
        },
        {
         "name": "Engelska",
         "type": "bar",
         "x": [
          "Samtliga",
          "Kommunal",
          "Enskild",
          "Skolverket"
         ],
         "xaxis": "x2",
         "y": {
          "bdata": "ZmZmZmZmL0DNzMzMzMwuQGZmZmZm5jBAAAAAAACAMkA=",
          "dtype": "f8"
         },
         "yaxis": "y2"
        },
        {
         "name": "Matematik",
         "type": "bar",
         "x": [
          "Samtliga",
          "Kommunal",
          "Enskild",
          "Skolverket"
         ],
         "xaxis": "x3",
         "y": {
          "bdata": "zczMzMzMJ0AzMzMzMzMnQAAAAAAAACpAMzMzMzMzLEA=",
          "dtype": "f8"
         },
         "yaxis": "y3"
        },
        {
         "name": "Svenska som andraspråk",
         "type": "bar",
         "x": [
          "Samtliga",
          "Kommunal",
          "Enskild",
          "Skolverket"
         ],
         "xaxis": "x4",
         "y": [
          9.4,
          9,
          11.1,
          ".."
         ],
         "yaxis": "y4"
        }
       ],
       "layout": {
        "annotations": [
         {
          "font": {
           "size": 16
          },
          "showarrow": false,
          "text": "Svenska",
          "x": 0.225,
          "xanchor": "center",
          "xref": "paper",
          "y": 1,
          "yanchor": "bottom",
          "yref": "paper"
         },
         {
          "font": {
           "size": 16
          },
          "showarrow": false,
          "text": "Engelska",
          "x": 0.775,
          "xanchor": "center",
          "xref": "paper",
          "y": 1,
          "yanchor": "bottom",
          "yref": "paper"
         },
         {
          "font": {
           "size": 16
          },
          "showarrow": false,
          "text": "Matematik",
          "x": 0.225,
          "xanchor": "center",
          "xref": "paper",
          "y": 0.375,
          "yanchor": "bottom",
          "yref": "paper"
         },
         {
          "font": {
           "size": 16
          },
          "showarrow": false,
          "text": "Svenska som andraspråk",
          "x": 0.775,
          "xanchor": "center",
          "xref": "paper",
          "y": 0.375,
          "yanchor": "bottom",
          "yref": "paper"
         }
        ],
        "height": 800,
        "showlegend": false,
        "template": {
         "data": {
          "bar": [
           {
            "error_x": {
             "color": "#2a3f5f"
            },
            "error_y": {
             "color": "#2a3f5f"
            },
            "marker": {
             "line": {
              "color": "#E5ECF6",
              "width": 0.5
             },
             "pattern": {
              "fillmode": "overlay",
              "size": 10,
              "solidity": 0.2
             }
            },
            "type": "bar"
           }
          ],
          "barpolar": [
           {
            "marker": {
             "line": {
              "color": "#E5ECF6",
              "width": 0.5
             },
             "pattern": {
              "fillmode": "overlay",
              "size": 10,
              "solidity": 0.2
             }
            },
            "type": "barpolar"
           }
          ],
          "carpet": [
           {
            "aaxis": {
             "endlinecolor": "#2a3f5f",
             "gridcolor": "white",
             "linecolor": "white",
             "minorgridcolor": "white",
             "startlinecolor": "#2a3f5f"
            },
            "baxis": {
             "endlinecolor": "#2a3f5f",
             "gridcolor": "white",
             "linecolor": "white",
             "minorgridcolor": "white",
             "startlinecolor": "#2a3f5f"
            },
            "type": "carpet"
           }
          ],
          "choropleth": [
           {
            "colorbar": {
             "outlinewidth": 0,
             "ticks": ""
            },
            "type": "choropleth"
           }
          ],
          "contour": [
           {
            "colorbar": {
             "outlinewidth": 0,
             "ticks": ""
            },
            "colorscale": [
             [
              0,
              "#0d0887"
             ],
             [
              0.1111111111111111,
              "#46039f"
             ],
             [
              0.2222222222222222,
              "#7201a8"
             ],
             [
              0.3333333333333333,
              "#9c179e"
             ],
             [
              0.4444444444444444,
              "#bd3786"
             ],
             [
              0.5555555555555556,
              "#d8576b"
             ],
             [
              0.6666666666666666,
              "#ed7953"
             ],
             [
              0.7777777777777778,
              "#fb9f3a"
             ],
             [
              0.8888888888888888,
              "#fdca26"
             ],
             [
              1,
              "#f0f921"
             ]
            ],
            "type": "contour"
           }
          ],
          "contourcarpet": [
           {
            "colorbar": {
             "outlinewidth": 0,
             "ticks": ""
            },
            "type": "contourcarpet"
           }
          ],
          "heatmap": [
           {
            "colorbar": {
             "outlinewidth": 0,
             "ticks": ""
            },
            "colorscale": [
             [
              0,
              "#0d0887"
             ],
             [
              0.1111111111111111,
              "#46039f"
             ],
             [
              0.2222222222222222,
              "#7201a8"
             ],
             [
              0.3333333333333333,
              "#9c179e"
             ],
             [
              0.4444444444444444,
              "#bd3786"
             ],
             [
              0.5555555555555556,
              "#d8576b"
             ],
             [
              0.6666666666666666,
              "#ed7953"
             ],
             [
              0.7777777777777778,
              "#fb9f3a"
             ],
             [
              0.8888888888888888,
              "#fdca26"
             ],
             [
              1,
              "#f0f921"
             ]
            ],
            "type": "heatmap"
           }
          ],
          "histogram": [
           {
            "marker": {
             "pattern": {
              "fillmode": "overlay",
              "size": 10,
              "solidity": 0.2
             }
            },
            "type": "histogram"
           }
          ],
          "histogram2d": [
           {
            "colorbar": {
             "outlinewidth": 0,
             "ticks": ""
            },
            "colorscale": [
             [
              0,
              "#0d0887"
             ],
             [
              0.1111111111111111,
              "#46039f"
             ],
             [
              0.2222222222222222,
              "#7201a8"
             ],
             [
              0.3333333333333333,
              "#9c179e"
             ],
             [
              0.4444444444444444,
              "#bd3786"
             ],
             [
              0.5555555555555556,
              "#d8576b"
             ],
             [
              0.6666666666666666,
              "#ed7953"
             ],
             [
              0.7777777777777778,
              "#fb9f3a"
             ],
             [
              0.8888888888888888,
              "#fdca26"
             ],
             [
              1,
              "#f0f921"
             ]
            ],
            "type": "histogram2d"
           }
          ],
          "histogram2dcontour": [
           {
            "colorbar": {
             "outlinewidth": 0,
             "ticks": ""
            },
            "colorscale": [
             [
              0,
              "#0d0887"
             ],
             [
              0.1111111111111111,
              "#46039f"
             ],
             [
              0.2222222222222222,
              "#7201a8"
             ],
             [
              0.3333333333333333,
              "#9c179e"
             ],
             [
              0.4444444444444444,
              "#bd3786"
             ],
             [
              0.5555555555555556,
              "#d8576b"
             ],
             [
              0.6666666666666666,
              "#ed7953"
             ],
             [
              0.7777777777777778,
              "#fb9f3a"
             ],
             [
              0.8888888888888888,
              "#fdca26"
             ],
             [
              1,
              "#f0f921"
             ]
            ],
            "type": "histogram2dcontour"
           }
          ],
          "mesh3d": [
           {
            "colorbar": {
             "outlinewidth": 0,
             "ticks": ""
            },
            "type": "mesh3d"
           }
          ],
          "parcoords": [
           {
            "line": {
             "colorbar": {
              "outlinewidth": 0,
              "ticks": ""
             }
            },
            "type": "parcoords"
           }
          ],
          "pie": [
           {
            "automargin": true,
            "type": "pie"
           }
          ],
          "scatter": [
           {
            "fillpattern": {
             "fillmode": "overlay",
             "size": 10,
             "solidity": 0.2
            },
            "type": "scatter"
           }
          ],
          "scatter3d": [
           {
            "line": {
             "colorbar": {
              "outlinewidth": 0,
              "ticks": ""
             }
            },
            "marker": {
             "colorbar": {
              "outlinewidth": 0,
              "ticks": ""
             }
            },
            "type": "scatter3d"
           }
          ],
          "scattercarpet": [
           {
            "marker": {
             "colorbar": {
              "outlinewidth": 0,
              "ticks": ""
             }
            },
            "type": "scattercarpet"
           }
          ],
          "scattergeo": [
           {
            "marker": {
             "colorbar": {
              "outlinewidth": 0,
              "ticks": ""
             }
            },
            "type": "scattergeo"
           }
          ],
          "scattergl": [
           {
            "marker": {
             "colorbar": {
              "outlinewidth": 0,
              "ticks": ""
             }
            },
            "type": "scattergl"
           }
          ],
          "scattermap": [
           {
            "marker": {
             "colorbar": {
              "outlinewidth": 0,
              "ticks": ""
             }
            },
            "type": "scattermap"
           }
          ],
          "scattermapbox": [
           {
            "marker": {
             "colorbar": {
              "outlinewidth": 0,
              "ticks": ""
             }
            },
            "type": "scattermapbox"
           }
          ],
          "scatterpolar": [
           {
            "marker": {
             "colorbar": {
              "outlinewidth": 0,
              "ticks": ""
             }
            },
            "type": "scatterpolar"
           }
          ],
          "scatterpolargl": [
           {
            "marker": {
             "colorbar": {
              "outlinewidth": 0,
              "ticks": ""
             }
            },
            "type": "scatterpolargl"
           }
          ],
          "scatterternary": [
           {
            "marker": {
             "colorbar": {
              "outlinewidth": 0,
              "ticks": ""
             }
            },
            "type": "scatterternary"
           }
          ],
          "surface": [
           {
            "colorbar": {
             "outlinewidth": 0,
             "ticks": ""
            },
            "colorscale": [
             [
              0,
              "#0d0887"
             ],
             [
              0.1111111111111111,
              "#46039f"
             ],
             [
              0.2222222222222222,
              "#7201a8"
             ],
             [
              0.3333333333333333,
              "#9c179e"
             ],
             [
              0.4444444444444444,
              "#bd3786"
             ],
             [
              0.5555555555555556,
              "#d8576b"
             ],
             [
              0.6666666666666666,
              "#ed7953"
             ],
             [
              0.7777777777777778,
              "#fb9f3a"
             ],
             [
              0.8888888888888888,
              "#fdca26"
             ],
             [
              1,
              "#f0f921"
             ]
            ],
            "type": "surface"
           }
          ],
          "table": [
           {
            "cells": {
             "fill": {
              "color": "#EBF0F8"
             },
             "line": {
              "color": "white"
             }
            },
            "header": {
             "fill": {
              "color": "#C8D4E3"
             },
             "line": {
              "color": "white"
             }
            },
            "type": "table"
           }
          ]
         },
         "layout": {
          "annotationdefaults": {
           "arrowcolor": "#2a3f5f",
           "arrowhead": 0,
           "arrowwidth": 1
          },
          "autotypenumbers": "strict",
          "coloraxis": {
           "colorbar": {
            "outlinewidth": 0,
            "ticks": ""
           }
          },
          "colorscale": {
           "diverging": [
            [
             0,
             "#8e0152"
            ],
            [
             0.1,
             "#c51b7d"
            ],
            [
             0.2,
             "#de77ae"
            ],
            [
             0.3,
             "#f1b6da"
            ],
            [
             0.4,
             "#fde0ef"
            ],
            [
             0.5,
             "#f7f7f7"
            ],
            [
             0.6,
             "#e6f5d0"
            ],
            [
             0.7,
             "#b8e186"
            ],
            [
             0.8,
             "#7fbc41"
            ],
            [
             0.9,
             "#4d9221"
            ],
            [
             1,
             "#276419"
            ]
           ],
           "sequential": [
            [
             0,
             "#0d0887"
            ],
            [
             0.1111111111111111,
             "#46039f"
            ],
            [
             0.2222222222222222,
             "#7201a8"
            ],
            [
             0.3333333333333333,
             "#9c179e"
            ],
            [
             0.4444444444444444,
             "#bd3786"
            ],
            [
             0.5555555555555556,
             "#d8576b"
            ],
            [
             0.6666666666666666,
             "#ed7953"
            ],
            [
             0.7777777777777778,
             "#fb9f3a"
            ],
            [
             0.8888888888888888,
             "#fdca26"
            ],
            [
             1,
             "#f0f921"
            ]
           ],
           "sequentialminus": [
            [
             0,
             "#0d0887"
            ],
            [
             0.1111111111111111,
             "#46039f"
            ],
            [
             0.2222222222222222,
             "#7201a8"
            ],
            [
             0.3333333333333333,
             "#9c179e"
            ],
            [
             0.4444444444444444,
             "#bd3786"
            ],
            [
             0.5555555555555556,
             "#d8576b"
            ],
            [
             0.6666666666666666,
             "#ed7953"
            ],
            [
             0.7777777777777778,
             "#fb9f3a"
            ],
            [
             0.8888888888888888,
             "#fdca26"
            ],
            [
             1,
             "#f0f921"
            ]
           ]
          },
          "colorway": [
           "#636efa",
           "#EF553B",
           "#00cc96",
           "#ab63fa",
           "#FFA15A",
           "#19d3f3",
           "#FF6692",
           "#B6E880",
           "#FF97FF",
           "#FECB52"
          ],
          "font": {
           "color": "#2a3f5f"
          },
          "geo": {
           "bgcolor": "white",
           "lakecolor": "white",
           "landcolor": "#E5ECF6",
           "showlakes": true,
           "showland": true,
           "subunitcolor": "white"
          },
          "hoverlabel": {
           "align": "left"
          },
          "hovermode": "closest",
          "mapbox": {
           "style": "light"
          },
          "paper_bgcolor": "white",
          "plot_bgcolor": "#E5ECF6",
          "polar": {
           "angularaxis": {
            "gridcolor": "white",
            "linecolor": "white",
            "ticks": ""
           },
           "bgcolor": "#E5ECF6",
           "radialaxis": {
            "gridcolor": "white",
            "linecolor": "white",
            "ticks": ""
           }
          },
          "scene": {
           "xaxis": {
            "backgroundcolor": "#E5ECF6",
            "gridcolor": "white",
            "gridwidth": 2,
            "linecolor": "white",
            "showbackground": true,
            "ticks": "",
            "zerolinecolor": "white"
           },
           "yaxis": {
            "backgroundcolor": "#E5ECF6",
            "gridcolor": "white",
            "gridwidth": 2,
            "linecolor": "white",
            "showbackground": true,
            "ticks": "",
            "zerolinecolor": "white"
           },
           "zaxis": {
            "backgroundcolor": "#E5ECF6",
            "gridcolor": "white",
            "gridwidth": 2,
            "linecolor": "white",
            "showbackground": true,
            "ticks": "",
            "zerolinecolor": "white"
           }
          },
          "shapedefaults": {
           "line": {
            "color": "#2a3f5f"
           }
          },
          "ternary": {
           "aaxis": {
            "gridcolor": "white",
            "linecolor": "white",
            "ticks": ""
           },
           "baxis": {
            "gridcolor": "white",
            "linecolor": "white",
            "ticks": ""
           },
           "bgcolor": "#E5ECF6",
           "caxis": {
            "gridcolor": "white",
            "linecolor": "white",
            "ticks": ""
           }
          },
          "title": {
           "x": 0.05
          },
          "xaxis": {
           "automargin": true,
           "gridcolor": "white",
           "linecolor": "white",
           "ticks": "",
           "title": {
            "standoff": 15
           },
           "zerolinecolor": "white",
           "zerolinewidth": 2
          },
          "yaxis": {
           "automargin": true,
           "gridcolor": "white",
           "linecolor": "white",
           "ticks": "",
           "title": {
            "standoff": 15
           },
           "zerolinecolor": "white",
           "zerolinewidth": 2
          }
         }
        },
        "title": {
         "text": "Poäng för olika ämnen"
        },
        "width": 1000,
        "xaxis": {
         "anchor": "y",
         "domain": [
          0,
          0.45
         ]
        },
        "xaxis2": {
         "anchor": "y2",
         "domain": [
          0.55,
          1
         ]
        },
        "xaxis3": {
         "anchor": "y3",
         "domain": [
          0,
          0.45
         ]
        },
        "xaxis4": {
         "anchor": "y4",
         "domain": [
          0.55,
          1
         ]
        },
        "yaxis": {
         "anchor": "x",
         "domain": [
          0.625,
          1
         ]
        },
        "yaxis2": {
         "anchor": "x2",
         "domain": [
          0.625,
          1
         ]
        },
        "yaxis3": {
         "anchor": "x3",
         "domain": [
          0,
          0.375
         ]
        },
        "yaxis4": {
         "anchor": "x4",
         "domain": [
          0,
          0.375
         ]
        }
       }
      }
     },
     "metadata": {},
     "output_type": "display_data"
    }
   ],
   "source": [
    "#a)\n",
    "import plotly.graph_objects as go\n",
    "from plotly.subplots import make_subplots\n",
    "\n",
    "fig = make_subplots(rows=2, cols=2, \n",
    "                    subplot_titles=(\"Svenska\", \"Engelska\", \"Matematik\", \"Svenska som andraspråk\"))\n",
    "\n",
    "\n",
    "fig.add_trace(go.Bar(x=df_Svenska[\"Huvudman\"], y=df_Svenska[\"Totalt(poäng)\"], name=\"Svenska\"),\n",
    "              row=1, col=1)\n",
    "\n",
    "\n",
    "fig.add_trace(go.Bar(x=df_Engelska[\"Huvudman\"], y=df_Engelska[\"Totalt(poäng)\"], name=\"Engelska\"),\n",
    "              row=1, col=2)\n",
    "\n",
    "fig.add_trace(go.Bar(x=df_Matematik[\"Huvudman\"], y=df_Matematik[\"Totalt(poäng)\"], name=\"Matematik\"),\n",
    "              row=2, col=1)\n",
    "\n",
    "fig.add_trace(go.Bar(x=df_Svenska_som_andraspråk[\"Huvudman\"], y=df_Svenska_som_andraspråk[\"Totalt(poäng)\"], name=\"Svenska som andraspråk\"),\n",
    "              row=2, col=2)\n",
    "\n",
    "fig.update_layout(title_text=\"Poäng för olika ämnen\",\n",
    "                  showlegend=False, height=800, width=1000)\n",
    "\n",
    "fig.show()\n"
   ]
  },
  {
   "cell_type": "markdown",
   "metadata": {},
   "source": [
    "#Uppgift 2"
   ]
  },
  {
   "cell_type": "code",
   "execution_count": 5,
   "metadata": {},
   "outputs": [
    {
     "data": {
      "text/html": [
       "<div>\n",
       "<style scoped>\n",
       "    .dataframe tbody tr th:only-of-type {\n",
       "        vertical-align: middle;\n",
       "    }\n",
       "\n",
       "    .dataframe tbody tr th {\n",
       "        vertical-align: top;\n",
       "    }\n",
       "\n",
       "    .dataframe thead th {\n",
       "        text-align: right;\n",
       "    }\n",
       "</style>\n",
       "<table border=\"1\" class=\"dataframe\">\n",
       "  <thead>\n",
       "    <tr style=\"text-align: right;\">\n",
       "      <th></th>\n",
       "      <th>Läsår\\nHuvudman\\nBakgrund</th>\n",
       "      <th>Elever som avslutat åk 9 - Totlat</th>\n",
       "      <th>Elever som avslutat åk 9 - Flickor</th>\n",
       "      <th>Elever som avslutat åk 9 - Pojkar</th>\n",
       "      <th>Elever som avslutat åk 9 - Därav elever - med slutbetyg1 - Totalt</th>\n",
       "      <th>Elever som avslutat åk 9 - Därav elever - med slutbetyg1 - Flickor</th>\n",
       "      <th>Elever som avslutat åk 9 - Därav elever - med slutbetyg1 - Pokjkar</th>\n",
       "      <th>Elever som avslutat åk 9 - Därav elever - med godkända slutbetyg - Totalt</th>\n",
       "      <th>Elever som avslutat åk 9 - Därav elever - med slutbetyg1 - Flickor</th>\n",
       "      <th>Elever som avslutat åk 9 - Därav elever - med godkända slutbetyg - Pokjkar</th>\n",
       "    </tr>\n",
       "  </thead>\n",
       "  <tbody>\n",
       "    <tr>\n",
       "      <th>0</th>\n",
       "      <td>NaN</td>\n",
       "      <td>Totalt</td>\n",
       "      <td>Flickor</td>\n",
       "      <td>Pojkar</td>\n",
       "      <td>därav elever</td>\n",
       "      <td>NaN</td>\n",
       "      <td>NaN</td>\n",
       "      <td>NaN</td>\n",
       "      <td>NaN</td>\n",
       "      <td>NaN</td>\n",
       "    </tr>\n",
       "    <tr>\n",
       "      <th>1</th>\n",
       "      <td>NaN</td>\n",
       "      <td>NaN</td>\n",
       "      <td>NaN</td>\n",
       "      <td>NaN</td>\n",
       "      <td>med slutbetyg1</td>\n",
       "      <td>NaN</td>\n",
       "      <td>NaN</td>\n",
       "      <td>med godkända\\nslutbetyg</td>\n",
       "      <td>NaN</td>\n",
       "      <td>NaN</td>\n",
       "    </tr>\n",
       "    <tr>\n",
       "      <th>2</th>\n",
       "      <td>NaN</td>\n",
       "      <td>NaN</td>\n",
       "      <td>NaN</td>\n",
       "      <td>NaN</td>\n",
       "      <td>NaN</td>\n",
       "      <td>NaN</td>\n",
       "      <td>NaN</td>\n",
       "      <td>NaN</td>\n",
       "      <td>NaN</td>\n",
       "      <td>NaN</td>\n",
       "    </tr>\n",
       "    <tr>\n",
       "      <th>3</th>\n",
       "      <td>NaN</td>\n",
       "      <td>NaN</td>\n",
       "      <td>NaN</td>\n",
       "      <td>NaN</td>\n",
       "      <td>Totalt</td>\n",
       "      <td>Flickor</td>\n",
       "      <td>Pojkar</td>\n",
       "      <td>Totalt</td>\n",
       "      <td>Flickor</td>\n",
       "      <td>Pojkar</td>\n",
       "    </tr>\n",
       "    <tr>\n",
       "      <th>4</th>\n",
       "      <td>2018/19</td>\n",
       "      <td>112731</td>\n",
       "      <td>54667</td>\n",
       "      <td>58064</td>\n",
       "      <td>112280</td>\n",
       "      <td>54430</td>\n",
       "      <td>57850</td>\n",
       "      <td>110663</td>\n",
       "      <td>53757</td>\n",
       "      <td>56906</td>\n",
       "    </tr>\n",
       "    <tr>\n",
       "      <th>5</th>\n",
       "      <td>2019/20</td>\n",
       "      <td>115023</td>\n",
       "      <td>55670</td>\n",
       "      <td>59353</td>\n",
       "      <td>114444</td>\n",
       "      <td>55389</td>\n",
       "      <td>59055</td>\n",
       "      <td>112728</td>\n",
       "      <td>54711</td>\n",
       "      <td>58017</td>\n",
       "    </tr>\n",
       "    <tr>\n",
       "      <th>6</th>\n",
       "      <td>2020/21</td>\n",
       "      <td>116359</td>\n",
       "      <td>56715</td>\n",
       "      <td>59644</td>\n",
       "      <td>115710</td>\n",
       "      <td>56394</td>\n",
       "      <td>59316</td>\n",
       "      <td>114136</td>\n",
       "      <td>55721</td>\n",
       "      <td>58415</td>\n",
       "    </tr>\n",
       "    <tr>\n",
       "      <th>7</th>\n",
       "      <td>2021/22</td>\n",
       "      <td>120525</td>\n",
       "      <td>58513</td>\n",
       "      <td>62012</td>\n",
       "      <td>119891</td>\n",
       "      <td>58207</td>\n",
       "      <td>61684</td>\n",
       "      <td>117935</td>\n",
       "      <td>57312</td>\n",
       "      <td>60623</td>\n",
       "    </tr>\n",
       "    <tr>\n",
       "      <th>8</th>\n",
       "      <td>2022/23</td>\n",
       "      <td>121369</td>\n",
       "      <td>59043</td>\n",
       "      <td>62326</td>\n",
       "      <td>120742</td>\n",
       "      <td>58703</td>\n",
       "      <td>62039</td>\n",
       "      <td>118736</td>\n",
       "      <td>57781</td>\n",
       "      <td>60955</td>\n",
       "    </tr>\n",
       "    <tr>\n",
       "      <th>9</th>\n",
       "      <td>därav</td>\n",
       "      <td>NaN</td>\n",
       "      <td>NaN</td>\n",
       "      <td>NaN</td>\n",
       "      <td>NaN</td>\n",
       "      <td>NaN</td>\n",
       "      <td>NaN</td>\n",
       "      <td>NaN</td>\n",
       "      <td>NaN</td>\n",
       "      <td>NaN</td>\n",
       "    </tr>\n",
       "    <tr>\n",
       "      <th>10</th>\n",
       "      <td>Kommun</td>\n",
       "      <td>96204</td>\n",
       "      <td>46478</td>\n",
       "      <td>49726</td>\n",
       "      <td>95991</td>\n",
       "      <td>46363</td>\n",
       "      <td>49628</td>\n",
       "      <td>94276</td>\n",
       "      <td>45588</td>\n",
       "      <td>48688</td>\n",
       "    </tr>\n",
       "    <tr>\n",
       "      <th>11</th>\n",
       "      <td>därav</td>\n",
       "      <td>NaN</td>\n",
       "      <td>NaN</td>\n",
       "      <td>NaN</td>\n",
       "      <td>NaN</td>\n",
       "      <td>NaN</td>\n",
       "      <td>NaN</td>\n",
       "      <td>NaN</td>\n",
       "      <td>NaN</td>\n",
       "      <td>NaN</td>\n",
       "    </tr>\n",
       "    <tr>\n",
       "      <th>12</th>\n",
       "      <td>Internationella skolor</td>\n",
       "      <td>213</td>\n",
       "      <td>115</td>\n",
       "      <td>98</td>\n",
       "      <td>.</td>\n",
       "      <td>.</td>\n",
       "      <td>.</td>\n",
       "      <td>.</td>\n",
       "      <td>.</td>\n",
       "      <td>.</td>\n",
       "    </tr>\n",
       "    <tr>\n",
       "      <th>13</th>\n",
       "      <td>Enskild</td>\n",
       "      <td>25165</td>\n",
       "      <td>12565</td>\n",
       "      <td>12600</td>\n",
       "      <td>24751</td>\n",
       "      <td>12340</td>\n",
       "      <td>12411</td>\n",
       "      <td>24460</td>\n",
       "      <td>12193</td>\n",
       "      <td>12267</td>\n",
       "    </tr>\n",
       "    <tr>\n",
       "      <th>14</th>\n",
       "      <td>därav</td>\n",
       "      <td>NaN</td>\n",
       "      <td>NaN</td>\n",
       "      <td>NaN</td>\n",
       "      <td>NaN</td>\n",
       "      <td>NaN</td>\n",
       "      <td>NaN</td>\n",
       "      <td>NaN</td>\n",
       "      <td>NaN</td>\n",
       "      <td>NaN</td>\n",
       "    </tr>\n",
       "    <tr>\n",
       "      <th>15</th>\n",
       "      <td>Allmän inriktning</td>\n",
       "      <td>23085</td>\n",
       "      <td>11511</td>\n",
       "      <td>11574</td>\n",
       "      <td>23085</td>\n",
       "      <td>11511</td>\n",
       "      <td>11574</td>\n",
       "      <td>22815</td>\n",
       "      <td>11372</td>\n",
       "      <td>11443</td>\n",
       "    </tr>\n",
       "    <tr>\n",
       "      <th>16</th>\n",
       "      <td>Konfessionell</td>\n",
       "      <td>1036</td>\n",
       "      <td>532</td>\n",
       "      <td>504</td>\n",
       "      <td>1036</td>\n",
       "      <td>532</td>\n",
       "      <td>504</td>\n",
       "      <td>1025</td>\n",
       "      <td>526</td>\n",
       "      <td>499</td>\n",
       "    </tr>\n",
       "    <tr>\n",
       "      <th>17</th>\n",
       "      <td>Waldorf</td>\n",
       "      <td>630</td>\n",
       "      <td>297</td>\n",
       "      <td>333</td>\n",
       "      <td>630</td>\n",
       "      <td>297</td>\n",
       "      <td>333</td>\n",
       "      <td>620</td>\n",
       "      <td>295</td>\n",
       "      <td>325</td>\n",
       "    </tr>\n",
       "    <tr>\n",
       "      <th>18</th>\n",
       "      <td>Internationella skolor</td>\n",
       "      <td>414</td>\n",
       "      <td>225</td>\n",
       "      <td>189</td>\n",
       "      <td>.</td>\n",
       "      <td>.</td>\n",
       "      <td>.</td>\n",
       "      <td>.</td>\n",
       "      <td>.</td>\n",
       "      <td>.</td>\n",
       "    </tr>\n",
       "    <tr>\n",
       "      <th>19</th>\n",
       "      <td>Elever med svensk bakgrund</td>\n",
       "      <td>88383</td>\n",
       "      <td>43044</td>\n",
       "      <td>45339</td>\n",
       "      <td>88214</td>\n",
       "      <td>42961</td>\n",
       "      <td>45253</td>\n",
       "      <td>86799</td>\n",
       "      <td>42274</td>\n",
       "      <td>44525</td>\n",
       "    </tr>\n",
       "    <tr>\n",
       "      <th>20</th>\n",
       "      <td>Elever med utländsk bakgrund</td>\n",
       "      <td>31918</td>\n",
       "      <td>15488</td>\n",
       "      <td>16430</td>\n",
       "      <td>31488</td>\n",
       "      <td>15247</td>\n",
       "      <td>16241</td>\n",
       "      <td>30999</td>\n",
       "      <td>15066</td>\n",
       "      <td>15933</td>\n",
       "    </tr>\n",
       "    <tr>\n",
       "      <th>21</th>\n",
       "      <td>därav</td>\n",
       "      <td>NaN</td>\n",
       "      <td>NaN</td>\n",
       "      <td>NaN</td>\n",
       "      <td>NaN</td>\n",
       "      <td>NaN</td>\n",
       "      <td>NaN</td>\n",
       "      <td>NaN</td>\n",
       "      <td>NaN</td>\n",
       "      <td>NaN</td>\n",
       "    </tr>\n",
       "    <tr>\n",
       "      <th>22</th>\n",
       "      <td>Födda i Sverige</td>\n",
       "      <td>13927</td>\n",
       "      <td>6831</td>\n",
       "      <td>7096</td>\n",
       "      <td>13876</td>\n",
       "      <td>6807</td>\n",
       "      <td>7069</td>\n",
       "      <td>13709</td>\n",
       "      <td>6735</td>\n",
       "      <td>6974</td>\n",
       "    </tr>\n",
       "    <tr>\n",
       "      <th>23</th>\n",
       "      <td>Födda utomlands, inv. före 2014</td>\n",
       "      <td>6431</td>\n",
       "      <td>3078</td>\n",
       "      <td>3353</td>\n",
       "      <td>6340</td>\n",
       "      <td>3025</td>\n",
       "      <td>3315</td>\n",
       "      <td>6269</td>\n",
       "      <td>2993</td>\n",
       "      <td>3276</td>\n",
       "    </tr>\n",
       "    <tr>\n",
       "      <th>24</th>\n",
       "      <td>Födda utomlands, inv. 2014 el. senare</td>\n",
       "      <td>11560</td>\n",
       "      <td>5579</td>\n",
       "      <td>5981</td>\n",
       "      <td>11272</td>\n",
       "      <td>5415</td>\n",
       "      <td>5857</td>\n",
       "      <td>11021</td>\n",
       "      <td>5338</td>\n",
       "      <td>5683</td>\n",
       "    </tr>\n",
       "    <tr>\n",
       "      <th>25</th>\n",
       "      <td>Totalt exkl. nyinvandrade elever och okänd bak...</td>\n",
       "      <td>117503</td>\n",
       "      <td>57195</td>\n",
       "      <td>60308</td>\n",
       "      <td>117044</td>\n",
       "      <td>56952</td>\n",
       "      <td>60092</td>\n",
       "      <td>115254</td>\n",
       "      <td>56114</td>\n",
       "      <td>59140</td>\n",
       "    </tr>\n",
       "    <tr>\n",
       "      <th>26</th>\n",
       "      <td>Nyinvandrade elever</td>\n",
       "      <td>2799</td>\n",
       "      <td>1338</td>\n",
       "      <td>1461</td>\n",
       "      <td>2658</td>\n",
       "      <td>1256</td>\n",
       "      <td>1402</td>\n",
       "      <td>2544</td>\n",
       "      <td>1226</td>\n",
       "      <td>1318</td>\n",
       "    </tr>\n",
       "    <tr>\n",
       "      <th>27</th>\n",
       "      <td>Elever med okänd bakgrund</td>\n",
       "      <td>1067</td>\n",
       "      <td>510</td>\n",
       "      <td>557</td>\n",
       "      <td>1040</td>\n",
       "      <td>495</td>\n",
       "      <td>545</td>\n",
       "      <td>938</td>\n",
       "      <td>441</td>\n",
       "      <td>497</td>\n",
       "    </tr>\n",
       "    <tr>\n",
       "      <th>28</th>\n",
       "      <td>Föräldrarnas högsta utbildning2</td>\n",
       "      <td>NaN</td>\n",
       "      <td>NaN</td>\n",
       "      <td>NaN</td>\n",
       "      <td>NaN</td>\n",
       "      <td>NaN</td>\n",
       "      <td>NaN</td>\n",
       "      <td>NaN</td>\n",
       "      <td>NaN</td>\n",
       "      <td>NaN</td>\n",
       "    </tr>\n",
       "    <tr>\n",
       "      <th>29</th>\n",
       "      <td>Förgymnasial utbildning</td>\n",
       "      <td>6578</td>\n",
       "      <td>3197</td>\n",
       "      <td>3381</td>\n",
       "      <td>6575</td>\n",
       "      <td>3197</td>\n",
       "      <td>3378</td>\n",
       "      <td>6327</td>\n",
       "      <td>3091</td>\n",
       "      <td>3236</td>\n",
       "    </tr>\n",
       "    <tr>\n",
       "      <th>30</th>\n",
       "      <td>Gymnasial utbildning</td>\n",
       "      <td>36842</td>\n",
       "      <td>17909</td>\n",
       "      <td>18933</td>\n",
       "      <td>36810</td>\n",
       "      <td>17893</td>\n",
       "      <td>18917</td>\n",
       "      <td>35938</td>\n",
       "      <td>17488</td>\n",
       "      <td>18450</td>\n",
       "    </tr>\n",
       "    <tr>\n",
       "      <th>31</th>\n",
       "      <td>Eftergymnasial utbildning</td>\n",
       "      <td>74793</td>\n",
       "      <td>36473</td>\n",
       "      <td>38320</td>\n",
       "      <td>74283</td>\n",
       "      <td>36201</td>\n",
       "      <td>38082</td>\n",
       "      <td>73583</td>\n",
       "      <td>35871</td>\n",
       "      <td>37712</td>\n",
       "    </tr>\n",
       "    <tr>\n",
       "      <th>32</th>\n",
       "      <td>därav</td>\n",
       "      <td>NaN</td>\n",
       "      <td>NaN</td>\n",
       "      <td>NaN</td>\n",
       "      <td>NaN</td>\n",
       "      <td>NaN</td>\n",
       "      <td>NaN</td>\n",
       "      <td>NaN</td>\n",
       "      <td>NaN</td>\n",
       "      <td>NaN</td>\n",
       "    </tr>\n",
       "    <tr>\n",
       "      <th>33</th>\n",
       "      <td>Kort utbildning</td>\n",
       "      <td>18682</td>\n",
       "      <td>9215</td>\n",
       "      <td>9467</td>\n",
       "      <td>18628</td>\n",
       "      <td>9189</td>\n",
       "      <td>9439</td>\n",
       "      <td>18384</td>\n",
       "      <td>9073</td>\n",
       "      <td>9311</td>\n",
       "    </tr>\n",
       "    <tr>\n",
       "      <th>34</th>\n",
       "      <td>Lång utbildning</td>\n",
       "      <td>56111</td>\n",
       "      <td>27258</td>\n",
       "      <td>28853</td>\n",
       "      <td>55655</td>\n",
       "      <td>27012</td>\n",
       "      <td>28643</td>\n",
       "      <td>55199</td>\n",
       "      <td>26798</td>\n",
       "      <td>28401</td>\n",
       "    </tr>\n",
       "  </tbody>\n",
       "</table>\n",
       "</div>"
      ],
      "text/plain": [
       "                            Läsår\\nHuvudman\\nBakgrund  \\\n",
       "0                                                 NaN   \n",
       "1                                                 NaN   \n",
       "2                                                 NaN   \n",
       "3                                                 NaN   \n",
       "4                                             2018/19   \n",
       "5                                             2019/20   \n",
       "6                                             2020/21   \n",
       "7                                             2021/22   \n",
       "8                                             2022/23   \n",
       "9                                               därav   \n",
       "10                                             Kommun   \n",
       "11                                              därav   \n",
       "12                             Internationella skolor   \n",
       "13                                            Enskild   \n",
       "14                                              därav   \n",
       "15                                  Allmän inriktning   \n",
       "16                                      Konfessionell   \n",
       "17                                            Waldorf   \n",
       "18                             Internationella skolor   \n",
       "19                         Elever med svensk bakgrund   \n",
       "20                       Elever med utländsk bakgrund   \n",
       "21                                              därav   \n",
       "22                                    Födda i Sverige   \n",
       "23                    Födda utomlands, inv. före 2014   \n",
       "24              Födda utomlands, inv. 2014 el. senare   \n",
       "25  Totalt exkl. nyinvandrade elever och okänd bak...   \n",
       "26                                Nyinvandrade elever   \n",
       "27                          Elever med okänd bakgrund   \n",
       "28                    Föräldrarnas högsta utbildning2   \n",
       "29                            Förgymnasial utbildning   \n",
       "30                               Gymnasial utbildning   \n",
       "31                          Eftergymnasial utbildning   \n",
       "32                                              därav   \n",
       "33                                    Kort utbildning   \n",
       "34                                    Lång utbildning   \n",
       "\n",
       "   Elever som avslutat åk 9 - Totlat Elever som avslutat åk 9 - Flickor  \\\n",
       "0                             Totalt                            Flickor   \n",
       "1                                NaN                                NaN   \n",
       "2                                NaN                                NaN   \n",
       "3                                NaN                                NaN   \n",
       "4                             112731                              54667   \n",
       "5                             115023                              55670   \n",
       "6                             116359                              56715   \n",
       "7                             120525                              58513   \n",
       "8                             121369                              59043   \n",
       "9                                NaN                                NaN   \n",
       "10                             96204                              46478   \n",
       "11                               NaN                                NaN   \n",
       "12                               213                                115   \n",
       "13                             25165                              12565   \n",
       "14                               NaN                                NaN   \n",
       "15                             23085                              11511   \n",
       "16                              1036                                532   \n",
       "17                               630                                297   \n",
       "18                               414                                225   \n",
       "19                             88383                              43044   \n",
       "20                             31918                              15488   \n",
       "21                               NaN                                NaN   \n",
       "22                             13927                               6831   \n",
       "23                              6431                               3078   \n",
       "24                             11560                               5579   \n",
       "25                            117503                              57195   \n",
       "26                              2799                               1338   \n",
       "27                              1067                                510   \n",
       "28                               NaN                                NaN   \n",
       "29                              6578                               3197   \n",
       "30                             36842                              17909   \n",
       "31                             74793                              36473   \n",
       "32                               NaN                                NaN   \n",
       "33                             18682                               9215   \n",
       "34                             56111                              27258   \n",
       "\n",
       "   Elever som avslutat åk 9 - Pojkar  \\\n",
       "0                             Pojkar   \n",
       "1                                NaN   \n",
       "2                                NaN   \n",
       "3                                NaN   \n",
       "4                              58064   \n",
       "5                              59353   \n",
       "6                              59644   \n",
       "7                              62012   \n",
       "8                              62326   \n",
       "9                                NaN   \n",
       "10                             49726   \n",
       "11                               NaN   \n",
       "12                                98   \n",
       "13                             12600   \n",
       "14                               NaN   \n",
       "15                             11574   \n",
       "16                               504   \n",
       "17                               333   \n",
       "18                               189   \n",
       "19                             45339   \n",
       "20                             16430   \n",
       "21                               NaN   \n",
       "22                              7096   \n",
       "23                              3353   \n",
       "24                              5981   \n",
       "25                             60308   \n",
       "26                              1461   \n",
       "27                               557   \n",
       "28                               NaN   \n",
       "29                              3381   \n",
       "30                             18933   \n",
       "31                             38320   \n",
       "32                               NaN   \n",
       "33                              9467   \n",
       "34                             28853   \n",
       "\n",
       "   Elever som avslutat åk 9 - Därav elever - med slutbetyg1 - Totalt  \\\n",
       "0                                        därav elever                  \n",
       "1                                      med slutbetyg1                  \n",
       "2                                                 NaN                  \n",
       "3                                              Totalt                  \n",
       "4                                              112280                  \n",
       "5                                              114444                  \n",
       "6                                              115710                  \n",
       "7                                              119891                  \n",
       "8                                              120742                  \n",
       "9                                                 NaN                  \n",
       "10                                              95991                  \n",
       "11                                                NaN                  \n",
       "12                                                  .                  \n",
       "13                                              24751                  \n",
       "14                                                NaN                  \n",
       "15                                              23085                  \n",
       "16                                               1036                  \n",
       "17                                                630                  \n",
       "18                                                  .                  \n",
       "19                                              88214                  \n",
       "20                                              31488                  \n",
       "21                                                NaN                  \n",
       "22                                              13876                  \n",
       "23                                               6340                  \n",
       "24                                              11272                  \n",
       "25                                             117044                  \n",
       "26                                               2658                  \n",
       "27                                               1040                  \n",
       "28                                                NaN                  \n",
       "29                                               6575                  \n",
       "30                                              36810                  \n",
       "31                                              74283                  \n",
       "32                                                NaN                  \n",
       "33                                              18628                  \n",
       "34                                              55655                  \n",
       "\n",
       "   Elever som avslutat åk 9 - Därav elever - med slutbetyg1 - Flickor  \\\n",
       "0                                                 NaN                   \n",
       "1                                                 NaN                   \n",
       "2                                                 NaN                   \n",
       "3                                             Flickor                   \n",
       "4                                               54430                   \n",
       "5                                               55389                   \n",
       "6                                               56394                   \n",
       "7                                               58207                   \n",
       "8                                               58703                   \n",
       "9                                                 NaN                   \n",
       "10                                              46363                   \n",
       "11                                                NaN                   \n",
       "12                                                  .                   \n",
       "13                                              12340                   \n",
       "14                                                NaN                   \n",
       "15                                              11511                   \n",
       "16                                                532                   \n",
       "17                                                297                   \n",
       "18                                                  .                   \n",
       "19                                              42961                   \n",
       "20                                              15247                   \n",
       "21                                                NaN                   \n",
       "22                                               6807                   \n",
       "23                                               3025                   \n",
       "24                                               5415                   \n",
       "25                                              56952                   \n",
       "26                                               1256                   \n",
       "27                                                495                   \n",
       "28                                                NaN                   \n",
       "29                                               3197                   \n",
       "30                                              17893                   \n",
       "31                                              36201                   \n",
       "32                                                NaN                   \n",
       "33                                               9189                   \n",
       "34                                              27012                   \n",
       "\n",
       "   Elever som avslutat åk 9 - Därav elever - med slutbetyg1 - Pokjkar  \\\n",
       "0                                                 NaN                   \n",
       "1                                                 NaN                   \n",
       "2                                                 NaN                   \n",
       "3                                              Pojkar                   \n",
       "4                                               57850                   \n",
       "5                                               59055                   \n",
       "6                                               59316                   \n",
       "7                                               61684                   \n",
       "8                                               62039                   \n",
       "9                                                 NaN                   \n",
       "10                                              49628                   \n",
       "11                                                NaN                   \n",
       "12                                                  .                   \n",
       "13                                              12411                   \n",
       "14                                                NaN                   \n",
       "15                                              11574                   \n",
       "16                                                504                   \n",
       "17                                                333                   \n",
       "18                                                  .                   \n",
       "19                                              45253                   \n",
       "20                                              16241                   \n",
       "21                                                NaN                   \n",
       "22                                               7069                   \n",
       "23                                               3315                   \n",
       "24                                               5857                   \n",
       "25                                              60092                   \n",
       "26                                               1402                   \n",
       "27                                                545                   \n",
       "28                                                NaN                   \n",
       "29                                               3378                   \n",
       "30                                              18917                   \n",
       "31                                              38082                   \n",
       "32                                                NaN                   \n",
       "33                                               9439                   \n",
       "34                                              28643                   \n",
       "\n",
       "   Elever som avslutat åk 9 - Därav elever - med godkända slutbetyg - Totalt  \\\n",
       "0                                                 NaN                          \n",
       "1                             med godkända\\nslutbetyg                          \n",
       "2                                                 NaN                          \n",
       "3                                              Totalt                          \n",
       "4                                              110663                          \n",
       "5                                              112728                          \n",
       "6                                              114136                          \n",
       "7                                              117935                          \n",
       "8                                              118736                          \n",
       "9                                                 NaN                          \n",
       "10                                              94276                          \n",
       "11                                                NaN                          \n",
       "12                                                  .                          \n",
       "13                                              24460                          \n",
       "14                                                NaN                          \n",
       "15                                              22815                          \n",
       "16                                               1025                          \n",
       "17                                                620                          \n",
       "18                                                  .                          \n",
       "19                                              86799                          \n",
       "20                                              30999                          \n",
       "21                                                NaN                          \n",
       "22                                              13709                          \n",
       "23                                               6269                          \n",
       "24                                              11021                          \n",
       "25                                             115254                          \n",
       "26                                               2544                          \n",
       "27                                                938                          \n",
       "28                                                NaN                          \n",
       "29                                               6327                          \n",
       "30                                              35938                          \n",
       "31                                              73583                          \n",
       "32                                                NaN                          \n",
       "33                                              18384                          \n",
       "34                                              55199                          \n",
       "\n",
       "   Elever som avslutat åk 9 - Därav elever - med slutbetyg1 - Flickor  \\\n",
       "0                                                 NaN                   \n",
       "1                                                 NaN                   \n",
       "2                                                 NaN                   \n",
       "3                                             Flickor                   \n",
       "4                                               53757                   \n",
       "5                                               54711                   \n",
       "6                                               55721                   \n",
       "7                                               57312                   \n",
       "8                                               57781                   \n",
       "9                                                 NaN                   \n",
       "10                                              45588                   \n",
       "11                                                NaN                   \n",
       "12                                                  .                   \n",
       "13                                              12193                   \n",
       "14                                                NaN                   \n",
       "15                                              11372                   \n",
       "16                                                526                   \n",
       "17                                                295                   \n",
       "18                                                  .                   \n",
       "19                                              42274                   \n",
       "20                                              15066                   \n",
       "21                                                NaN                   \n",
       "22                                               6735                   \n",
       "23                                               2993                   \n",
       "24                                               5338                   \n",
       "25                                              56114                   \n",
       "26                                               1226                   \n",
       "27                                                441                   \n",
       "28                                                NaN                   \n",
       "29                                               3091                   \n",
       "30                                              17488                   \n",
       "31                                              35871                   \n",
       "32                                                NaN                   \n",
       "33                                               9073                   \n",
       "34                                              26798                   \n",
       "\n",
       "   Elever som avslutat åk 9 - Därav elever - med godkända slutbetyg - Pokjkar  \n",
       "0                                                 NaN                          \n",
       "1                                                 NaN                          \n",
       "2                                                 NaN                          \n",
       "3                                              Pojkar                          \n",
       "4                                               56906                          \n",
       "5                                               58017                          \n",
       "6                                               58415                          \n",
       "7                                               60623                          \n",
       "8                                               60955                          \n",
       "9                                                 NaN                          \n",
       "10                                              48688                          \n",
       "11                                                NaN                          \n",
       "12                                                  .                          \n",
       "13                                              12267                          \n",
       "14                                                NaN                          \n",
       "15                                              11443                          \n",
       "16                                                499                          \n",
       "17                                                325                          \n",
       "18                                                  .                          \n",
       "19                                              44525                          \n",
       "20                                              15933                          \n",
       "21                                                NaN                          \n",
       "22                                               6974                          \n",
       "23                                               3276                          \n",
       "24                                               5683                          \n",
       "25                                              59140                          \n",
       "26                                               1318                          \n",
       "27                                                497                          \n",
       "28                                                NaN                          \n",
       "29                                               3236                          \n",
       "30                                              18450                          \n",
       "31                                              37712                          \n",
       "32                                                NaN                          \n",
       "33                                               9311                          \n",
       "34                                              28401                          "
      ]
     },
     "execution_count": 5,
     "metadata": {},
     "output_type": "execute_result"
    }
   ],
   "source": [
    "df_betyg_o_prov_riksnivå = pd.read_excel(\"betyg_o_prov_riksnivå.xlsx\",sheet_name='Tabell 1A' ,skiprows=5)\n",
    "df_betyg_o_prov_riksnivå = df_betyg_o_prov_riksnivå.rename(columns={'Elever som avslutat åk 9': 'Elever som avslutat åk 9 - Totlat','Unnamed: 2': 'Elever som avslutat åk 9 - Flickor', 'Unnamed: 3': 'Elever som avslutat åk 9 - Pojkar','Unnamed: 4': 'Elever som avslutat åk 9 - Därav elever - med slutbetyg1 - Totalt','Unnamed: 5': 'Elever som avslutat åk 9 - Därav elever - med slutbetyg1 - Flickor','Unnamed: 6': 'Elever som avslutat åk 9 - Därav elever - med slutbetyg1 - Pokjkar','Unnamed: 8': 'Elever som avslutat åk 9 - Därav elever - med slutbetyg1 - Flickor','Unnamed: 7': 'Elever som avslutat åk 9 - Därav elever - med godkända slutbetyg - Totalt','Unnamed: 9': 'Elever som avslutat åk 9 - Därav elever - med godkända slutbetyg - Pokjkar'})\n",
    "df_betyg_o_prov_riksnivå\n"
   ]
  },
  {
   "cell_type": "code",
   "execution_count": null,
   "metadata": {},
   "outputs": [],
   "source": [
    "#A)\n",
    "df_betyg_o_prov_riksnivå1B = pd.read_excel(\"betyg_o_prov_riksnivå.xlsx\",sheet_name='Tabell 1B' ,skiprows=7)\n",
    "df_betyg_o_prov_riksnivå\n",
    "\n",
    "df_betyg_o_prov_riksnivå1Bs = df_betyg_o_prov_riksnivå1B[df_betyg_o_prov_riksnivå1B[\"Unnamed: 0\"] == \"2018/19\"]"
   ]
  },
  {
   "cell_type": "code",
   "execution_count": 9,
   "metadata": {},
   "outputs": [
    {
     "data": {
      "image/png": "[encoded data removed]",
      "text/plain": [
       "<Figure size 640x480 with 1 Axes>"
      ]
     },
     "metadata": {},
     "output_type": "display_data"
    }
   ],
   "source": [
    "import matplotlib.pyplot as plt\n",
    "years_filter = [\"2018/19\", \"2019/20\", \"2020/21\", \"2021/22\", \"2022/23\"]\n",
    "df_filtered_years = df_betyg_o_prov_riksnivå1B[df_betyg_o_prov_riksnivå1B[\"Unnamed: 0\"].isin(years_filter)]\n",
    "\n",
    "\n",
    "df_filtered_years = df_filtered_years.rename(columns={\"Unnamed: 0\": \"Year\", \"Totalt.2\": \"Total\", \"Flickor.2\": \"Girls\", \"Pojkar.2\": \"Boys\"})\n",
    "\n",
    "\n",
    "plt.plot(df_filtered_years[\"Year\"], df_filtered_years[\"Total\"], label=\"Total\")\n",
    "plt.plot(df_filtered_years[\"Year\"], df_filtered_years[\"Girls\"], label=\"Girls\")\n",
    "plt.plot(df_filtered_years[\"Year\"], df_filtered_years[\"Boys\"], label=\"Boys\")\n",
    "\n",
    "\n",
    "plt.xlabel(\"Year\")\n",
    "plt.ylabel(\"Missing Grades\")\n",
    "plt.title(\"Missing Grades by Gender from 2018 to 2023\")\n",
    "plt.legend()\n",
    "\n",
    "\n",
    "plt.show()\n"
   ]
  },
  {
   "cell_type": "code",
   "execution_count": null,
   "metadata": {},
   "outputs": [],
   "source": []
  }
 ],
 "metadata": {
  "kernelspec": {
   "display_name": "Python 3",
   "language": "python",
   "name": "python3"
  },
  "language_info": {
   "codemirror_mode": {
    "name": "ipython",
    "version": 3
   },
   "file_extension": ".py",
   "mimetype": "text/x-python",
   "name": "python",
   "nbconvert_exporter": "python",
   "pygments_lexer": "ipython3",
   "version": "3.11.0"
  }
 },
 "nbformat": 4,
 "nbformat_minor": 2
}
